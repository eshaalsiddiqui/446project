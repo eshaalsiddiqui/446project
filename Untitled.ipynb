{
 "cells": [
  {
   "cell_type": "code",
   "execution_count": null,
   "id": "a9d8e7a9-b035-4538-9941-a3677b6b25b6",
   "metadata": {},
   "outputs": [],
   "source": [
    "import pandas as pd\n",
    "import numpy as np\n",
    "from sklearn.ensemble import RandomForestRegressor\n",
    "from sklearn.model_selection import train_test_split, GridSearchCV\n",
    "from sklearn.metrics import mean_absolute_error, mean_squared_error, r2_score\n",
    "import matplotlib.pyplot as plt\n",
    "import seaborn as sns\n"
   ]
  },
  {
   "cell_type": "code",
   "execution_count": null,
   "id": "c1587d21-07b3-4e72-abb1-c1470520cf6e",
   "metadata": {},
   "outputs": [],
   "source": [
    "df = pd.read_csv(\"ontario_electricity_demand.csv\")\n",
    "\n",
    "df['date'] = pd.to_datetime(df['date'])\n",
    "df['month'] = df['date'].dt.month\n",
    "df['dayofweek'] = df['date'].dt.dayofweek\n",
    "df['hour'] = df['hour'].astype(int)\n",
    "\n",
    "features = ['hour', 'month', 'dayofweek', 'hourly_average_price']\n",
    "target = 'hourly_demand'\n",
    "\n",
    "X = df[features]\n",
    "y = df[target]\n",
    "\n",
    "X_train, X_test, y_train, y_test = train_test_split(X, y, test_size=0.2, random_state=156)\n"
   ]
  },
  {
   "cell_type": "code",
   "execution_count": null,
   "id": "a96327a4-6ba7-425a-a4bd-6e905a5ba54a",
   "metadata": {},
   "outputs": [],
   "source": [
    "model_rf = RandomForestRegressor(n_estimators=100, random_state=156)\n",
    "model_rf.fit(X_train, y_train)\n",
    "\n",
    "preds_test = model_rf.predict(X_test)\n",
    "\n",
    "print(\"Random Forest Regressor - Baseline Performance:\")\n",
    "print(\"MAE:\", mean_absolute_error(y_test, preds_test))\n",
    "print(\"MSE:\", mean_squared_error(y_test, preds_test))\n",
    "print(\"R² Score:\", r2_score(y_test, preds_test))\n"
   ]
  },
  {
   "cell_type": "code",
   "execution_count": null,
   "id": "1067c5da-2d01-44cf-86c4-b1f48be1a6e1",
   "metadata": {},
   "outputs": [],
   "source": [
    "params = {\n",
    "    'max_depth': np.arange(10,15),\n",
    "    'n_estimators': np.arange(100,150)\n",
    "}\n",
    "\n",
    "grid_search = GridSearchCV(\n",
    "    estimator=RandomForestRegressor(random_state=156),\n",
    "    param_grid=params,\n",
    "    cv=5,\n",
    "    scoring='neg_mean_absolute_error',\n",
    "    n_jobs=-1,\n",
    "    verbose=1,\n",
    "    return_train_score=True\n",
    ")\n",
    "\n",
    "grid_search.fit(X_train, y_train)\n",
    "print(\"Best Parameters:\", grid_search.best_params_)\n"
   ]
  },
  {
   "cell_type": "code",
   "execution_count": null,
   "id": "0d2a65b1-6ea1-4bdb-b250-a5b7e526f82a",
   "metadata": {},
   "outputs": [],
   "source": [
    "clf_best = grid_search.best_estimator_\n",
    "y_test_pred = clf_best.predict(X_test)\n",
    "\n",
    "print(\"\\nTuned Model Performance:\")\n",
    "print(\"MAE:\", mean_absolute_error(y_test, y_test_pred))\n",
    "print(\"MSE:\", mean_squared_error(y_test, y_test_pred))\n",
    "print(\"R² Score:\", r2_score(y_test, y_test_pred))\n",
    "\n",
    "# Plot\n",
    "plt.figure(figsize=(10, 6))\n",
    "sns.lineplot(x=range(100), y=y_test.values[:100], label='Actual')\n",
    "sns.lineplot(x=range(100), y=y_test_pred[:100], label='Predicted')\n",
    "plt.title(\"Electricity Demand: Actual vs Predicted (First 100 Samples)\")\n",
    "plt.xlabel(\"Sample Index\")\n",
    "plt.ylabel(\"Demand (kWh)\")\n",
    "plt.legend()\n",
    "plt.tight_layout()\n",
    "plt.show()\n"
   ]
  },
  {
   "cell_type": "code",
   "execution_count": null,
   "id": "46878d0c-6604-47be-9b6b-29480fe47338",
   "metadata": {},
   "outputs": [],
   "source": []
  }
 ],
 "metadata": {
  "kernelspec": {
   "display_name": "Python 3 (ipykernel)",
   "language": "python",
   "name": "python3"
  },
  "language_info": {
   "codemirror_mode": {
    "name": "ipython",
    "version": 3
   },
   "file_extension": ".py",
   "mimetype": "text/x-python",
   "name": "python",
   "nbconvert_exporter": "python",
   "pygments_lexer": "ipython3",
   "version": "3.13.2"
  }
 },
 "nbformat": 4,
 "nbformat_minor": 5
}
